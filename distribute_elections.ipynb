{
  "nbformat": 4,
  "nbformat_minor": 0,
  "metadata": {
    "kernelspec": {
      "display_name": "Python 3",
      "name": "python3",
      "language": "python"
    },
    "language_info": {
      "mimetype": "text/x-python",
      "nbconvert_exporter": "python",
      "name": "python",
      "file_extension": ".py",
      "version": "3.7.6",
      "pygments_lexer": "ipython3",
      "codemirror_mode": {
        "version": 3,
        "name": "ipython"
      }
    },
    "celltoolbar": "Edit Metadata",
    "colab": {
      "name": "distribute_elections.ipynb",
      "provenance": [],
      "include_colab_link": true
    }
  },
  "cells": [
    {
      "cell_type": "markdown",
      "metadata": {
        "id": "view-in-github",
        "colab_type": "text"
      },
      "source": [
        "<a href=\"https://colab.research.google.com/github/AlizaShamsi/HalfDayHacking/blob/main/distribute_elections.ipynb\" target=\"_parent\"><img src=\"https://colab.research.google.com/assets/colab-badge.svg\" alt=\"Open In Colab\"/></a>"
      ]
    },
    {
      "cell_type": "markdown",
      "metadata": {
        "id": "tleNd_5Uu8OL"
      },
      "source": [
        "# Predicting Elections"
      ]
    },
    {
      "cell_type": "markdown",
      "metadata": {
        "id": "rQtJfG9Hu8OW"
      },
      "source": [
        "## PART 1: A Simple Election Model\n",
        "\n",
        "Let us import data that contains a table of probabilities that PredictWise made on October 2, 2012 for the US presidential elections. PredictWise aggregated polling data and, for each state, estimated the probability that Obama or Romney would win. We import the required libraries first."
      ]
    },
    {
      "cell_type": "code",
      "metadata": {
        "id": "uMjqbd3au8OZ"
      },
      "source": [
        "%matplotlib inline\n",
        "import numpy as np\n",
        "import matplotlib.pyplot as plt"
      ],
      "execution_count": 1,
      "outputs": []
    },
    {
      "cell_type": "code",
      "metadata": {
        "id": "dw6t26Swu8Oa"
      },
      "source": [
        "import pandas as pd # imports a library to handle data as dataframe"
      ],
      "execution_count": 2,
      "outputs": []
    },
    {
      "cell_type": "code",
      "metadata": {
        "id": "njCnlf5pvIKS",
        "outputId": "82adba9b-8906-4e88-f76a-418cb20e8edd",
        "colab": {
          "base_uri": "https://localhost:8080/"
        }
      },
      "source": [
        "!wget https://raw.githubusercontent.com/bitanb1999/HalfDayHacking/main/data/predictwise.csv"
      ],
      "execution_count": 7,
      "outputs": [
        {
          "output_type": "stream",
          "text": [
            "--2021-01-01 11:37:09--  https://raw.githubusercontent.com/bitanb1999/HalfDayHacking/main/data/predictwise.csv\n",
            "Resolving raw.githubusercontent.com (raw.githubusercontent.com)... 151.101.0.133, 151.101.64.133, 151.101.128.133, ...\n",
            "Connecting to raw.githubusercontent.com (raw.githubusercontent.com)|151.101.0.133|:443... connected.\n",
            "HTTP request sent, awaiting response... 200 OK\n",
            "Length: 1365 (1.3K) [text/plain]\n",
            "Saving to: ‘predictwise.csv’\n",
            "\n",
            "predictwise.csv     100%[===================>]   1.33K  --.-KB/s    in 0s      \n",
            "\n",
            "2021-01-01 11:37:09 (59.8 MB/s) - ‘predictwise.csv’ saved [1365/1365]\n",
            "\n"
          ],
          "name": "stdout"
        }
      ]
    },
    {
      "cell_type": "code",
      "metadata": {
        "id": "IxPqtZ2hu8Ob",
        "outputId": "9039ea1b-0dba-47b6-845b-55812fce0d4b",
        "colab": {
          "base_uri": "https://localhost:8080/",
          "height": 235
        }
      },
      "source": [
        "predictwise = pd.read_csv('predictwise.csv').set_index('States')\n",
        "predictwise.head()"
      ],
      "execution_count": 9,
      "outputs": [
        {
          "output_type": "execute_result",
          "data": {
            "text/html": [
              "<div>\n",
              "<style scoped>\n",
              "    .dataframe tbody tr th:only-of-type {\n",
              "        vertical-align: middle;\n",
              "    }\n",
              "\n",
              "    .dataframe tbody tr th {\n",
              "        vertical-align: top;\n",
              "    }\n",
              "\n",
              "    .dataframe thead th {\n",
              "        text-align: right;\n",
              "    }\n",
              "</style>\n",
              "<table border=\"1\" class=\"dataframe\">\n",
              "  <thead>\n",
              "    <tr style=\"text-align: right;\">\n",
              "      <th></th>\n",
              "      <th>Obama</th>\n",
              "      <th>Romney</th>\n",
              "      <th>Votes</th>\n",
              "    </tr>\n",
              "    <tr>\n",
              "      <th>States</th>\n",
              "      <th></th>\n",
              "      <th></th>\n",
              "      <th></th>\n",
              "    </tr>\n",
              "  </thead>\n",
              "  <tbody>\n",
              "    <tr>\n",
              "      <th>Alabama</th>\n",
              "      <td>0.000</td>\n",
              "      <td>1.000</td>\n",
              "      <td>9</td>\n",
              "    </tr>\n",
              "    <tr>\n",
              "      <th>Alaska</th>\n",
              "      <td>0.000</td>\n",
              "      <td>1.000</td>\n",
              "      <td>3</td>\n",
              "    </tr>\n",
              "    <tr>\n",
              "      <th>Arizona</th>\n",
              "      <td>0.062</td>\n",
              "      <td>0.938</td>\n",
              "      <td>11</td>\n",
              "    </tr>\n",
              "    <tr>\n",
              "      <th>Arkansas</th>\n",
              "      <td>0.000</td>\n",
              "      <td>1.000</td>\n",
              "      <td>6</td>\n",
              "    </tr>\n",
              "    <tr>\n",
              "      <th>California</th>\n",
              "      <td>1.000</td>\n",
              "      <td>0.000</td>\n",
              "      <td>55</td>\n",
              "    </tr>\n",
              "  </tbody>\n",
              "</table>\n",
              "</div>"
            ],
            "text/plain": [
              "            Obama  Romney  Votes\n",
              "States                          \n",
              "Alabama     0.000   1.000      9\n",
              "Alaska      0.000   1.000      3\n",
              "Arizona     0.062   0.938     11\n",
              "Arkansas    0.000   1.000      6\n",
              "California  1.000   0.000     55"
            ]
          },
          "metadata": {
            "tags": []
          },
          "execution_count": 9
        }
      ]
    },
    {
      "cell_type": "markdown",
      "metadata": {
        "id": "rbGWPmySu8Oc"
      },
      "source": [
        "Each row is the probability predicted by Predictwise that Romney or Obama would win a state. The votes column lists the number of electoral college votes in that state.\n",
        "\n",
        "In the case of tossed coins, even though we have a model which says that the probability of heads is 0.5, there are sequences of flips in which more or less than half the flips were heads. Similarly, here, if the probability of Romney winning in Arizona is 0.938, it means that if somehow, there were 1000 replications with an election each, Romney would win in 938 of those Arizonas **on the average** across the replications. And there would be some samples with Romney winning more, and some with less. We can run these **simulated** universes on a computer though not in real life.\n",
        "\n",
        "How did these probabilities come about. It does not matter. I might have fit a deep neural network, a bayesian model, or just asked people to bet (thats what predictwise did). Its all just a model."
      ]
    },
    {
      "cell_type": "markdown",
      "metadata": {
        "id": "dSCzIz1Nu8Od"
      },
      "source": [
        "### Single simulation for a particular state\n",
        "\n",
        "Let us consider the sixth state, `Colorado` and do one random simulation for this state. We use the function `np.random.uniform` to draw 1 sample from a uniform distribution of interval \\[a,b) with an equal probability. The default values of a and b is \\[0,1). Documentation about the function [here](https://docs.scipy.org/doc/numpy-1.15.0/reference/generated/numpy.random.uniform.html)"
      ]
    },
    {
      "cell_type": "markdown",
      "metadata": {
        "id": "sA-av04Iu8Oe"
      },
      "source": [
        "#### Uniform Distribution (in numpy)\n",
        "\n",
        "`np.random.uniform` gives you a random number between 0 and 1, uniformly. In other words, the number is equally likely to be between 0 and 0.1, 0.1 and 0.2, and so on. This is a very intuitive idea, but it is formalized by the notion of the **Uniform Distribution**.\n",
        "\n",
        "We then say:\n",
        "\n",
        "$$X \\sim Uniform([0,1),$$\n",
        "\n",
        "which is to be read as **X has distribution Uniform([0,1])**. "
      ]
    },
    {
      "cell_type": "code",
      "metadata": {
        "id": "W1yxKThLu8Oe",
        "outputId": "82bb9401-3128-4d0d-b713-61320b66b048",
        "colab": {
          "base_uri": "https://localhost:8080/"
        }
      },
      "source": [
        "print(predictwise.loc['Colorado'])\n",
        "sim = np.random.uniform()\n",
        "print(sim)"
      ],
      "execution_count": 10,
      "outputs": [
        {
          "output_type": "stream",
          "text": [
            "Obama     0.807\n",
            "Romney    0.193\n",
            "Votes     9.000\n",
            "Name: Colorado, dtype: float64\n",
            "0.6828620787518015\n"
          ],
          "name": "stdout"
        }
      ]
    },
    {
      "cell_type": "markdown",
      "metadata": {
        "id": "QPBH_9xzu8Of"
      },
      "source": [
        "Obama would would win Colorado for this particular simulation if his probability is higher than the random uniform number between 0 and 1. With and Obama probability of 0.807, Obama wins in this particular case."
      ]
    },
    {
      "cell_type": "code",
      "metadata": {
        "id": "kktoG5yEu8Of",
        "outputId": "734440c0-b19f-481e-8293-b97c533bb0c9",
        "colab": {
          "base_uri": "https://localhost:8080/"
        }
      },
      "source": [
        "obama_win = (predictwise.loc['Colorado'].Obama > sim)*1\n",
        "#True*1=1\n",
        "print(obama_win)"
      ],
      "execution_count": 14,
      "outputs": [
        {
          "output_type": "stream",
          "text": [
            "1\n"
          ],
          "name": "stdout"
        }
      ]
    },
    {
      "cell_type": "markdown",
      "metadata": {
        "id": "HieF5V20u8Og"
      },
      "source": [
        "Run this cell many times:"
      ]
    },
    {
      "cell_type": "code",
      "metadata": {
        "id": "ea_PXZOUu8Og",
        "outputId": "5409fff6-8d76-445f-b614-c1c4e9266c31",
        "colab": {
          "base_uri": "https://localhost:8080/"
        }
      },
      "source": [
        "obama_win = (predictwise.loc['Colorado'].Obama > np.random.uniform())*1\n",
        "print(obama_win)"
      ],
      "execution_count": 16,
      "outputs": [
        {
          "output_type": "stream",
          "text": [
            "1\n"
          ],
          "name": "stdout"
        }
      ]
    },
    {
      "cell_type": "markdown",
      "metadata": {
        "id": "wUVm4JF0u8Oh"
      },
      "source": [
        "Using `np.random.uniform` and comparing it to a probability threshold to get a 0 or 1 - this is nothing but a **Bernoulli Random Variable** for Colorado state.\n",
        "\n",
        "A Bernoulli Random Variable is the simplest kind of random variable. It can take on two values,\n",
        "1 and 0. It takes on a 1 if an experiment with probability *p* resulted in success and a 0 otherwise. A coin toss is another example of a Bernoulli Random Variable.  "
      ]
    },
    {
      "cell_type": "markdown",
      "metadata": {
        "id": "0tYxLA-3u8Oi"
      },
      "source": [
        "What assigning the vote to Obama when the random variable **drawn** from the Uniform distribution is less than the Predictwise probability of Obama winning (which is a Bernoulli Parameter) does for us is this: lets say we have a large number of simulations and $p_{Obama}=0.8$. Now if we draw lots of numbers between 0 and 1, uniformly, then 80\\% of the time, the random numbes drawn will be below 0.8. Thus we will now have many simulations with Obama either winning or losing, but winning about 80% of the time."
      ]
    },
    {
      "cell_type": "markdown",
      "metadata": {
        "id": "_uNjDMVfu8Oi"
      },
      "source": [
        "### Multiple simulations for a particular State\n",
        "\n",
        "Now let's try and make 1000 simulations for Colorado. This is like making 1000 coin tosses with a biased coin. We expect Obama to win in about 80% of these"
      ]
    },
    {
      "cell_type": "code",
      "metadata": {
        "id": "53iXAI8cu8Oj",
        "outputId": "84630206-64df-4c3c-d0a4-afa4820fc447",
        "colab": {
          "base_uri": "https://localhost:8080/"
        }
      },
      "source": [
        "print(predictwise.loc['Colorado'])\n",
        "sims = np.random.uniform(size=1000)\n",
        "print(sims[:100])"
      ],
      "execution_count": 17,
      "outputs": [
        {
          "output_type": "stream",
          "text": [
            "Obama     0.807\n",
            "Romney    0.193\n",
            "Votes     9.000\n",
            "Name: Colorado, dtype: float64\n",
            "[0.77870022 0.68609522 0.44044403 0.34974825 0.74893768 0.89368462\n",
            " 0.19938279 0.81140849 0.59444168 0.26306482 0.87717978 0.60596323\n",
            " 0.52697088 0.1674071  0.47205986 0.66967474 0.06103665 0.6761781\n",
            " 0.31928716 0.07642108 0.46351524 0.55327858 0.11547755 0.8670951\n",
            " 0.81064623 0.76751243 0.9170535  0.55716784 0.06492466 0.44536692\n",
            " 0.81259071 0.31422276 0.02330168 0.64931666 0.80472995 0.4175798\n",
            " 0.40102325 0.95013033 0.35789802 0.78336188 0.48470113 0.51614837\n",
            " 0.97267678 0.73579873 0.15159358 0.17849371 0.26288006 0.315818\n",
            " 0.02319353 0.96144089 0.93213166 0.95920751 0.82420762 0.93034682\n",
            " 0.02776211 0.0577244  0.1469212  0.23026561 0.93196891 0.56087543\n",
            " 0.7447122  0.79449496 0.82382792 0.83165325 0.2406851  0.93812736\n",
            " 0.86469471 0.19701426 0.78579531 0.69081163 0.85194393 0.52740772\n",
            " 0.87352091 0.55956949 0.48563656 0.23513979 0.30842226 0.47360769\n",
            " 0.86963431 0.6698837  0.3750096  0.62901786 0.25324028 0.99530337\n",
            " 0.06657136 0.94692761 0.5980829  0.03496045 0.36783809 0.93169026\n",
            " 0.08382226 0.21991669 0.37512097 0.87126465 0.72297727 0.40234167\n",
            " 0.77457473 0.17980777 0.76739113 0.44998307]\n"
          ],
          "name": "stdout"
        }
      ]
    },
    {
      "cell_type": "markdown",
      "metadata": {
        "id": "B6DJiByTu8Ok"
      },
      "source": [
        "With an Obama probability of about 0.8, This means that we can pick the simulations in which Obama wins Colorado by seeing in how many of the simulations the random number thrown is less than 0.8\n",
        "\n",
        "We are simply making use of numpy broadcasting semantics here:"
      ]
    },
    {
      "cell_type": "code",
      "metadata": {
        "id": "Q196YtMlu8Ok",
        "outputId": "75836264-4a0e-43b3-c545-b916ea0a2488",
        "colab": {
          "base_uri": "https://localhost:8080/"
        }
      },
      "source": [
        "wins = sims < predictwise.loc['Colorado'].Obama\n",
        "wins[:100]"
      ],
      "execution_count": 18,
      "outputs": [
        {
          "output_type": "execute_result",
          "data": {
            "text/plain": [
              "array([ True,  True,  True,  True,  True, False,  True, False,  True,\n",
              "        True, False,  True,  True,  True,  True,  True,  True,  True,\n",
              "        True,  True,  True,  True,  True, False, False,  True, False,\n",
              "        True,  True,  True, False,  True,  True,  True,  True,  True,\n",
              "        True, False,  True,  True,  True,  True, False,  True,  True,\n",
              "        True,  True,  True,  True, False, False, False, False, False,\n",
              "        True,  True,  True,  True, False,  True,  True,  True, False,\n",
              "       False,  True, False, False,  True,  True,  True, False,  True,\n",
              "       False,  True,  True,  True,  True,  True, False,  True,  True,\n",
              "        True,  True, False,  True, False,  True,  True,  True, False,\n",
              "        True,  True,  True, False,  True,  True,  True,  True,  True,\n",
              "        True])"
            ]
          },
          "metadata": {
            "tags": []
          },
          "execution_count": 18
        }
      ]
    },
    {
      "cell_type": "markdown",
      "metadata": {
        "id": "pWJ2xOWdu8On"
      },
      "source": [
        "This is a boolean numpy array. Summing coerces the True to 1 and False to 0 and gives us the total number of simulations.<br>"
      ]
    },
    {
      "cell_type": "code",
      "metadata": {
        "id": "liNb2uPeu8Oo",
        "outputId": "f2a6cc07-13c2-4376-d77e-eda8ff07bf65",
        "colab": {
          "base_uri": "https://localhost:8080/"
        }
      },
      "source": [
        "np.sum(wins)"
      ],
      "execution_count": 19,
      "outputs": [
        {
          "output_type": "execute_result",
          "data": {
            "text/plain": [
              "814"
            ]
          },
          "metadata": {
            "tags": []
          },
          "execution_count": 19
        }
      ]
    },
    {
      "cell_type": "markdown",
      "metadata": {
        "id": "AqOWaM3Du8Op"
      },
      "source": [
        "Obama wins in 81% of the simulations, roughly, in Colorado"
      ]
    },
    {
      "cell_type": "markdown",
      "metadata": {
        "hide": true,
        "id": "AaNyIiziu8Op"
      },
      "source": [
        "## Simulating the election model\n",
        "\n",
        "To do this, \n",
        "we will assume that the outcome in each state is the result of an independent coin flip whose probability of coming up Obama is given by the Predictwise state-wise win probabilities. Lets write a function `simulate_election` that uses this **predictive model** to simulate the outcome of the election given a table of probabilities.\n",
        "\n",
        "But first, what do we need to do to achieve this? We need to take the output of each simulation for a state and compare it to the predictiwise probability. Then we need to do this many times. Then we need to multiply in by the electoral votes in those states. And then sum over the states."
      ]
    },
    {
      "cell_type": "markdown",
      "metadata": {
        "id": "I7Rd14DXu8Oq"
      },
      "source": [
        "### Simulations on all states\n",
        "Lets do it for all the states now. Now we make 1000 simulations for all the states. We'll create 51 rows of 1000 random numbers (1000 columns) between 0 and 1 & try and see in how many votes Obama is able to gather in each simulation"
      ]
    },
    {
      "cell_type": "code",
      "metadata": {
        "jupyter": {
          "outputs_hidden": false
        },
        "id": "RA1qf44qu8Or",
        "outputId": "b1f6ae58-e240-455a-ecc8-af255130b0c2",
        "colab": {
          "base_uri": "https://localhost:8080/",
          "height": 266
        }
      },
      "source": [
        "predictwise = pd.read_csv('predictwise.csv').set_index('States')\n",
        "predictwise.head(6)"
      ],
      "execution_count": 21,
      "outputs": [
        {
          "output_type": "execute_result",
          "data": {
            "text/html": [
              "<div>\n",
              "<style scoped>\n",
              "    .dataframe tbody tr th:only-of-type {\n",
              "        vertical-align: middle;\n",
              "    }\n",
              "\n",
              "    .dataframe tbody tr th {\n",
              "        vertical-align: top;\n",
              "    }\n",
              "\n",
              "    .dataframe thead th {\n",
              "        text-align: right;\n",
              "    }\n",
              "</style>\n",
              "<table border=\"1\" class=\"dataframe\">\n",
              "  <thead>\n",
              "    <tr style=\"text-align: right;\">\n",
              "      <th></th>\n",
              "      <th>Obama</th>\n",
              "      <th>Romney</th>\n",
              "      <th>Votes</th>\n",
              "    </tr>\n",
              "    <tr>\n",
              "      <th>States</th>\n",
              "      <th></th>\n",
              "      <th></th>\n",
              "      <th></th>\n",
              "    </tr>\n",
              "  </thead>\n",
              "  <tbody>\n",
              "    <tr>\n",
              "      <th>Alabama</th>\n",
              "      <td>0.000</td>\n",
              "      <td>1.000</td>\n",
              "      <td>9</td>\n",
              "    </tr>\n",
              "    <tr>\n",
              "      <th>Alaska</th>\n",
              "      <td>0.000</td>\n",
              "      <td>1.000</td>\n",
              "      <td>3</td>\n",
              "    </tr>\n",
              "    <tr>\n",
              "      <th>Arizona</th>\n",
              "      <td>0.062</td>\n",
              "      <td>0.938</td>\n",
              "      <td>11</td>\n",
              "    </tr>\n",
              "    <tr>\n",
              "      <th>Arkansas</th>\n",
              "      <td>0.000</td>\n",
              "      <td>1.000</td>\n",
              "      <td>6</td>\n",
              "    </tr>\n",
              "    <tr>\n",
              "      <th>California</th>\n",
              "      <td>1.000</td>\n",
              "      <td>0.000</td>\n",
              "      <td>55</td>\n",
              "    </tr>\n",
              "    <tr>\n",
              "      <th>Colorado</th>\n",
              "      <td>0.807</td>\n",
              "      <td>0.193</td>\n",
              "      <td>9</td>\n",
              "    </tr>\n",
              "  </tbody>\n",
              "</table>\n",
              "</div>"
            ],
            "text/plain": [
              "            Obama  Romney  Votes\n",
              "States                          \n",
              "Alabama     0.000   1.000      9\n",
              "Alaska      0.000   1.000      3\n",
              "Arizona     0.062   0.938     11\n",
              "Arkansas    0.000   1.000      6\n",
              "California  1.000   0.000     55\n",
              "Colorado    0.807   0.193      9"
            ]
          },
          "metadata": {
            "tags": []
          },
          "execution_count": 21
        }
      ]
    },
    {
      "cell_type": "code",
      "metadata": {
        "id": "3-sfr9Reu8Or",
        "outputId": "3aa5ba8d-a7cc-4a56-9add-7a84c0a280b7",
        "colab": {
          "base_uri": "https://localhost:8080/"
        }
      },
      "source": [
        "sims = np.random.uniform(size=(51, 1000))\n",
        "print(sims.shape)\n",
        "sims"
      ],
      "execution_count": 22,
      "outputs": [
        {
          "output_type": "stream",
          "text": [
            "(51, 1000)\n"
          ],
          "name": "stdout"
        },
        {
          "output_type": "execute_result",
          "data": {
            "text/plain": [
              "array([[0.75390038, 0.97195994, 0.37981475, ..., 0.74862916, 0.25581805,\n",
              "        0.49662291],\n",
              "       [0.79862672, 0.28327426, 0.14601736, ..., 0.77144263, 0.08878106,\n",
              "        0.31070854],\n",
              "       [0.25635436, 0.14539679, 0.47553151, ..., 0.67898919, 0.06039757,\n",
              "        0.49968824],\n",
              "       ...,\n",
              "       [0.90083332, 0.26092722, 0.18980063, ..., 0.23287821, 0.31071798,\n",
              "        0.16802332],\n",
              "       [0.24978497, 0.35058021, 0.56985885, ..., 0.18653204, 0.04925064,\n",
              "        0.46357275],\n",
              "       [0.81633623, 0.09354919, 0.59627147, ..., 0.49786737, 0.07979739,\n",
              "        0.62843122]])"
            ]
          },
          "metadata": {
            "tags": []
          },
          "execution_count": 22
        }
      ]
    },
    {
      "cell_type": "markdown",
      "metadata": {
        "id": "jVUUpwXIu8Os"
      },
      "source": [
        "Now we just need to compare each row of 1000 random numbers with the probability for that state to find how many of the simulations Obama wins:"
      ]
    },
    {
      "cell_type": "code",
      "metadata": {
        "id": "h_IslDeau8Os",
        "outputId": "ba42fbff-ec13-45ef-e978-a684a94d9f75",
        "colab": {
          "base_uri": "https://localhost:8080/",
          "height": 316
        }
      },
      "source": [
        "pred=predictwise.Obama.values\n",
        "sims < pred"
      ],
      "execution_count": 35,
      "outputs": [
        {
          "output_type": "error",
          "ename": "ValueError",
          "evalue": "ignored",
          "traceback": [
            "\u001b[0;31m---------------------------------------------------------------------------\u001b[0m",
            "\u001b[0;31mValueError\u001b[0m                                Traceback (most recent call last)",
            "\u001b[0;32m<ipython-input-35-1a904d3720aa>\u001b[0m in \u001b[0;36m<module>\u001b[0;34m()\u001b[0m\n\u001b[1;32m      1\u001b[0m \u001b[0mpred\u001b[0m\u001b[0;34m=\u001b[0m\u001b[0mpredictwise\u001b[0m\u001b[0;34m.\u001b[0m\u001b[0mObama\u001b[0m\u001b[0;34m.\u001b[0m\u001b[0mvalues\u001b[0m\u001b[0;34m\u001b[0m\u001b[0;34m\u001b[0m\u001b[0m\n\u001b[0;32m----> 2\u001b[0;31m \u001b[0msims\u001b[0m \u001b[0;34m<\u001b[0m \u001b[0mpred\u001b[0m\u001b[0;34m\u001b[0m\u001b[0;34m\u001b[0m\u001b[0m\n\u001b[0m",
            "\u001b[0;31mValueError\u001b[0m: operands could not be broadcast together with shapes (51,1000) (51,) "
          ]
        }
      ]
    },
    {
      "cell_type": "markdown",
      "metadata": {
        "id": "iED8Lrxxu8Ot"
      },
      "source": [
        "Doing this creates an error as the shape of **sims** and **predictwise.Obama.values** is not the same. We can use numpy.reshape to change the shape of our array"
      ]
    },
    {
      "cell_type": "markdown",
      "metadata": {
        "id": "NCMH0IKKu8Ot"
      },
      "source": [
        "## Comparing simulations and numpy.reshape\n",
        "\n",
        "Reshape gives a new shape to the array without changing the data.  Detailed documentation about reshape [here](https://docs.scipy.org/doc/numpy/reference/generated/numpy.reshape.html). Let us take an example to show how reshape works"
      ]
    },
    {
      "cell_type": "code",
      "metadata": {
        "id": "0KzrmHItu8Ou",
        "outputId": "201a39e0-48b9-45c5-98f7-1689d6ab03f3",
        "colab": {
          "base_uri": "https://localhost:8080/"
        }
      },
      "source": [
        "a= np.arange(6)\n",
        "print(a)\n",
        "print(a.shape)"
      ],
      "execution_count": 36,
      "outputs": [
        {
          "output_type": "stream",
          "text": [
            "[0 1 2 3 4 5]\n",
            "(6,)\n"
          ],
          "name": "stdout"
        }
      ]
    },
    {
      "cell_type": "code",
      "metadata": {
        "id": "7URcsAYvu8Ou",
        "outputId": "2294fa84-8e9d-48a5-f2a0-546484d0b1ea",
        "colab": {
          "base_uri": "https://localhost:8080/"
        }
      },
      "source": [
        "a.reshape(2,3)"
      ],
      "execution_count": 37,
      "outputs": [
        {
          "output_type": "execute_result",
          "data": {
            "text/plain": [
              "array([[0, 1, 2],\n",
              "       [3, 4, 5]])"
            ]
          },
          "metadata": {
            "tags": []
          },
          "execution_count": 37
        }
      ]
    },
    {
      "cell_type": "code",
      "metadata": {
        "id": "hYEyTW2uu8Ou",
        "outputId": "28dc21b0-f65a-406f-f2fd-52d088b22834",
        "colab": {
          "base_uri": "https://localhost:8080/"
        }
      },
      "source": [
        "print(a.reshape(-1,1))   # -1 as a parameter simply means that it is an unknown dimension and we want numpy to figure it out.\n",
        "print('New shape is: ', a.reshape(-1,1).shape)"
      ],
      "execution_count": 38,
      "outputs": [
        {
          "output_type": "stream",
          "text": [
            "[[0]\n",
            " [1]\n",
            " [2]\n",
            " [3]\n",
            " [4]\n",
            " [5]]\n",
            "New shape is:  (6, 1)\n"
          ],
          "name": "stdout"
        }
      ]
    },
    {
      "cell_type": "markdown",
      "metadata": {
        "id": "ISY76R5Pu8Ov"
      },
      "source": [
        "If we use `reshape` now to our predictwise Obama proababilities, we get 51 rows of 100 Trues and Falses"
      ]
    },
    {
      "cell_type": "code",
      "metadata": {
        "id": "aePx8U-yu8Ov",
        "outputId": "6ab49820-cab4-4153-987a-c9dd290b8bd2",
        "colab": {
          "base_uri": "https://localhost:8080/"
        }
      },
      "source": [
        "how_many_won = sims < predictwise.Obama.values.reshape(-1,1) # reshape for broadcasting\n",
        "how_many_won"
      ],
      "execution_count": 39,
      "outputs": [
        {
          "output_type": "execute_result",
          "data": {
            "text/plain": [
              "array([[False, False, False, ..., False, False, False],\n",
              "       [False, False, False, ..., False, False, False],\n",
              "       [False, False, False, ..., False,  True, False],\n",
              "       ...,\n",
              "       [False, False, False, ..., False, False, False],\n",
              "       [ True,  True,  True, ...,  True,  True,  True],\n",
              "       [False, False, False, ..., False, False, False]])"
            ]
          },
          "metadata": {
            "tags": []
          },
          "execution_count": 39
        }
      ]
    },
    {
      "cell_type": "code",
      "metadata": {
        "id": "js-TPL7Zu8Ov",
        "outputId": "7fc0302c-3393-41ef-f48b-2f7d8c12b966",
        "colab": {
          "base_uri": "https://localhost:8080/"
        }
      },
      "source": [
        "how_many_won.shape"
      ],
      "execution_count": 40,
      "outputs": [
        {
          "output_type": "execute_result",
          "data": {
            "text/plain": [
              "(51, 1000)"
            ]
          },
          "metadata": {
            "tags": []
          },
          "execution_count": 40
        }
      ]
    },
    {
      "cell_type": "markdown",
      "metadata": {
        "id": "kNIvmiNIu8Ow"
      },
      "source": [
        "Multiply by the number of electoral Votes in each state"
      ]
    },
    {
      "cell_type": "code",
      "metadata": {
        "id": "74c1LHhdu8Ow",
        "outputId": "6c049225-88af-490b-9942-6b947123711e",
        "colab": {
          "base_uri": "https://localhost:8080/"
        }
      },
      "source": [
        "how_many_electoral_votes = how_many_won*predictwise.Votes.values.reshape(-1,1)\n",
        "how_many_electoral_votes"
      ],
      "execution_count": 41,
      "outputs": [
        {
          "output_type": "execute_result",
          "data": {
            "text/plain": [
              "array([[ 0,  0,  0, ...,  0,  0,  0],\n",
              "       [ 0,  0,  0, ...,  0,  0,  0],\n",
              "       [ 0,  0,  0, ...,  0, 11,  0],\n",
              "       ...,\n",
              "       [ 0,  0,  0, ...,  0,  0,  0],\n",
              "       [10, 10, 10, ..., 10, 10, 10],\n",
              "       [ 0,  0,  0, ...,  0,  0,  0]])"
            ]
          },
          "metadata": {
            "tags": []
          },
          "execution_count": 41
        }
      ]
    },
    {
      "cell_type": "markdown",
      "metadata": {
        "id": "ghuT4hj9u8Ow"
      },
      "source": [
        "If we sum the columns now (that is over the 50 states and DC), we get the total electoral votes in the country for Obama in each simulation"
      ]
    },
    {
      "cell_type": "code",
      "metadata": {
        "id": "AP-E22oju8Ox",
        "outputId": "ead30011-f6d3-4f3f-e071-31505ada54d0",
        "colab": {
          "base_uri": "https://localhost:8080/"
        }
      },
      "source": [
        "total_electoral_votes_per_simulation = np.sum(how_many_electoral_votes, axis=0)\n",
        "total_electoral_votes_per_simulation[:20]"
      ],
      "execution_count": 42,
      "outputs": [
        {
          "output_type": "execute_result",
          "data": {
            "text/plain": [
              "array([323, 318, 279, 326, 341, 306, 332, 306, 332, 312, 315, 300, 326,\n",
              "       297, 332, 319, 343, 297, 336, 309])"
            ]
          },
          "metadata": {
            "tags": []
          },
          "execution_count": 42
        }
      ]
    },
    {
      "cell_type": "code",
      "metadata": {
        "id": "xMzPQT3Y6Z6F",
        "outputId": "189c42e9-fb48-439e-a02d-16120f661d87",
        "colab": {
          "base_uri": "https://localhost:8080/"
        }
      },
      "source": [
        " total_electoral_votes_per_simulation.shape"
      ],
      "execution_count": 43,
      "outputs": [
        {
          "output_type": "execute_result",
          "data": {
            "text/plain": [
              "(1000,)"
            ]
          },
          "metadata": {
            "tags": []
          },
          "execution_count": 43
        }
      ]
    },
    {
      "cell_type": "markdown",
      "metadata": {
        "id": "zUswHlE-u8Ox"
      },
      "source": [
        "This is what Nate Silver and other prediction people will quote you. In How many simulations does Obama win? Well there are 538 electoral votes in the US. So you need 269 to break even. Lets compare:"
      ]
    },
    {
      "cell_type": "code",
      "metadata": {
        "id": "JN4FXyp7u8Oy",
        "outputId": "fd7da746-76df-4923-876f-ca3fd303a4e9",
        "colab": {
          "base_uri": "https://localhost:8080/"
        }
      },
      "source": [
        "np.sum(total_electoral_votes_per_simulation >= 269)"
      ],
      "execution_count": 44,
      "outputs": [
        {
          "output_type": "execute_result",
          "data": {
            "text/plain": [
              "991"
            ]
          },
          "metadata": {
            "tags": []
          },
          "execution_count": 44
        }
      ]
    },
    {
      "cell_type": "markdown",
      "metadata": {
        "id": "RSqrGCexu8Oy"
      },
      "source": [
        "Thats 993 out of 1000 simulations or a 99.3% chance!"
      ]
    },
    {
      "cell_type": "markdown",
      "metadata": {
        "id": "HVy80dwzu8Oy"
      },
      "source": [
        "## Refactoring the simulation code"
      ]
    },
    {
      "cell_type": "markdown",
      "metadata": {
        "hide": true,
        "id": "jx1Pg1o_u8Oz"
      },
      "source": [
        "Here then is the predictive model we are playing with in short: each column simulates a single outcome from the 50 states + DC by choosing a random number between 0 and 1. Obama wins that simulation if the random number is $<$ the win probability. If he wins that simulation, we add in the electoral votes for that state, otherwise we dont. We do this `n_sim` times and return a list of total Obama electoral votes in each simulation."
      ]
    },
    {
      "cell_type": "markdown",
      "metadata": {
        "id": "ZHyCIVSku8O0"
      },
      "source": [
        "### Q1:  *Write a function that uses this **predictive model** to simulate the outcome of the election given a Dataframe of probabilities*.\n",
        "\n"
      ]
    },
    {
      "cell_type": "code",
      "metadata": {
        "jupyter": {
          "outputs_hidden": false
        },
        "id": "jm5462Yju8O0"
      },
      "source": [
        "\"\"\"\n",
        "Function\n",
        "--------\n",
        "simulate_election\n",
        "\n",
        "Inputs\n",
        "------\n",
        "model : DataFrame\n",
        "    A DataFrame summarizing an election forecast. The dataframe has 51 rows -- one for each state and DC\n",
        "    It has the following columns:\n",
        "       Obama : Forecasted probability that Obama wins the state\n",
        "       Votes : Electoral votes for the state\n",
        "    The DataFrame is indexed by state (i.e., model.index is an array of state names)\n",
        "    \n",
        "n_sim : int\n",
        "   Number of simulations to run\n",
        "   \n",
        "Returns\n",
        "-------\n",
        "results : Numpy array with n_sim elements\n",
        "   Each element stores the number of electoral college votes Obama wins in each simulation.   \n",
        "\"\"\"\n",
        "\n",
        "# your code here\n"
      ],
      "execution_count": null,
      "outputs": []
    },
    {
      "cell_type": "markdown",
      "metadata": {
        "id": "JRYIIjCku8O1"
      },
      "source": [
        "The following code takes the necessary probabilities for the Predictwise data, and runs 10000 simulations. If you think of this in terms of our coins, think of it as having 51 biased coins, one for each state, and tossing them 10,000 times each.\n",
        "\n",
        "We use the results to compute the number of simulations, according to this predictive model, that Obama wins the election (i.e., the probability that he receives 269 or more electoral college votes)"
      ]
    },
    {
      "cell_type": "code",
      "metadata": {
        "jupyter": {
          "outputs_hidden": false
        },
        "id": "7I6DIXKBu8O1"
      },
      "source": [
        "result = simulate_election(predictwise, 10000)\n",
        "print(type(result))\n",
        "np.sum(result >= 269)"
      ],
      "execution_count": null,
      "outputs": []
    },
    {
      "cell_type": "markdown",
      "metadata": {
        "id": "ob8NTO1Fu8O2"
      },
      "source": [
        "There are roughly only 50 simulations in which Romney wins the election!"
      ]
    },
    {
      "cell_type": "markdown",
      "metadata": {
        "id": "BthEaGrEu8O3"
      },
      "source": [
        "### Displaying the prediction\n",
        "\n",
        "Now, lets visualize the simulation. We will build a histogram from the result of `simulate_election`. We will **normalize** the histogram by dividing the frequency of a vote tally by the number of simulations. We'll overplot the \"victory threshold\" of 269 votes as a vertical black line and the result (Obama winning 332 votes) as a vertical red line.\n",
        "\n",
        "We also compute the number of votes at the 5th and 95th quantiles, which we call the spread, and display it (this is an estimate of the outcome's uncertainty). By 5th quantile we mean that if we ordered the number of votes Obama gets in each simulation in increasing order, the 5th quantile is the number below which 5\\% of the simulations lie. \n",
        "\n",
        "We also display the probability of an Obama victory, seeing a new feature in histograms, which is \"density\" plotting. Here we are normalizing the total frequency of the histogram to 1, to construct our notion of a probability from a large-number frquency.   "
      ]
    },
    {
      "cell_type": "code",
      "metadata": {
        "jupyter": {
          "outputs_hidden": false
        },
        "id": "KzOeaeM_u8O4"
      },
      "source": [
        "def plot_simulation(simulation):\n",
        "    fig, ax = plt.subplots(figsize=(12,6))\n",
        "    ax.hist(simulation, bins=np.arange(200, 538, 1), \n",
        "             label='simulations', align='left', density=True)\n",
        "    ax.axvline(332, 0, .5, color='r', label='Actual Outcome')\n",
        "    ax.axvline(269, 0, .5, color='k', label='Victory Threshold')\n",
        "    p05 = np.percentile(simulation, 5.)\n",
        "    p95 = np.percentile(simulation, 95.)\n",
        "    iq = int(p95 - p05)\n",
        "    pwin = ((simulation >= 269).mean() * 100)\n",
        "    ax.set_title(\"Chance of Obama Victory: %0.2f%%, Spread: %d votes\" % (pwin, iq))\n",
        "    ax.legend(frameon=False, loc='upper left')\n",
        "    ax.set_xlabel(\"Obama Electoral College Votes\")\n",
        "    ax.set_ylabel(\"Probability\")\n",
        "    ax.spines['top'].set_visible(False)\n",
        "    ax.spines['right'].set_visible(False)"
      ],
      "execution_count": null,
      "outputs": []
    },
    {
      "cell_type": "code",
      "metadata": {
        "jupyter": {
          "outputs_hidden": false
        },
        "id": "0FadzE3gu8O5"
      },
      "source": [
        "plot_simulation(result)"
      ],
      "execution_count": null,
      "outputs": []
    },
    {
      "cell_type": "markdown",
      "metadata": {
        "id": "k_skJgnou8O5"
      },
      "source": [
        "The model created by combining the probabilities we obtained from Predictwise with the simulation of a biased coin flip corresponding to the win probability in each states leads us to obtain a histogram of election outcomes. We are plotting the probabilities of a prediction, so we call this distribution over outcomes the **predictive distribution**. Simulating from our model and plotting a histogram allows us to visualize this predictive distribution. In general, such a set of probabilities is called a **probability distribution** or **probability mass function**. "
      ]
    },
    {
      "cell_type": "markdown",
      "metadata": {
        "id": "HUhLJNeRu8O6"
      },
      "source": [
        "## PART 2: Estimating Probabilities"
      ]
    },
    {
      "cell_type": "markdown",
      "metadata": {
        "id": "N6iDdqkju8O7"
      },
      "source": [
        "Now we will try to **estimate** our own win probabilities to plug into our predictive model.\n",
        "\n",
        "We will start with a simple forecast model. We will try to predict the outcome of the election based the estimated proportion of people in each state who identify with one one political party or the other.\n",
        "\n",
        "Gallup measures the political leaning of each state, based on asking random people which party they identify or affiliate with. [Here's the data](http://www.gallup.com/poll/156437/heavily-democratic-states-concentrated-east.aspx#2) they collected from January-June of 2012:"
      ]
    },
    {
      "cell_type": "code",
      "metadata": {
        "jupyter": {
          "outputs_hidden": false
        },
        "id": "UXNniiA5u8O8"
      },
      "source": [
        "gallup_2012=pd.read_csv(\"data/g12.csv\").set_index('State')\n",
        "gallup_2012[\"Unknown\"] = 100 - gallup_2012.Democrat - gallup_2012.Republican\n",
        "gallup_2012.head()"
      ],
      "execution_count": null,
      "outputs": []
    },
    {
      "cell_type": "markdown",
      "metadata": {
        "id": "e1u6f5eNu8O9"
      },
      "source": [
        "Each row lists a state, the percent of surveyed individuals who identify as Democrat/Republican, the percent whose identification is unknown or who haven't made an affiliation yet, the margin between Democrats and Republicans (`Dem_Adv`: the percentage identifying as Democrats minus the percentage identifying as Republicans), and the number `N` of people surveyed.\n",
        "\n",
        "### QUESTION 2\n",
        "\n",
        "This survey can be used to predict the outcome of each State's election. The simplest forecast model assigns 100% probability that the state will vote for the majority party.  *Implement this simple forecast*."
      ]
    },
    {
      "cell_type": "code",
      "metadata": {
        "jupyter": {
          "outputs_hidden": false
        },
        "id": "mZoP1xSou8O-"
      },
      "source": [
        "\"\"\"\n",
        "Function\n",
        "--------\n",
        "simple_gallup_model\n",
        "\n",
        "A simple forecast that predicts an Obama (Democratic) victory with\n",
        "0 or 100% probability, depending on whether a state\n",
        "leans Republican or Democrat.\n",
        "\n",
        "Inputs\n",
        "------\n",
        "gallup : DataFrame\n",
        "    The Gallup dataframe above\n",
        "\n",
        "Returns\n",
        "-------\n",
        "model : DataFrame\n",
        "    A dataframe with the following column\n",
        "     * Obama: probability that the state votes for Obama. All values should be 0 or 1\n",
        "    model.index should be set to gallup.index (that is, it should be indexed by state name)\n",
        "    \n",
        "Examples\n",
        "---------\n",
        ">>> simple_gallup_model(gallup_2012).ix['Florida']\n",
        "Obama    1\n",
        "Name: Florida, dtype: float64\n",
        ">>> simple_gallup_model(gallup_2012).ix['Arizona']\n",
        "Obama    0\n",
        "Name: Arizona, dtype: float64\n",
        "\"\"\"\n",
        "\n",
        "# your code here\n"
      ],
      "execution_count": null,
      "outputs": []
    },
    {
      "cell_type": "markdown",
      "metadata": {
        "id": "1O82Ss7yu8O-"
      },
      "source": [
        "Now, we run the simulation with this model, and plot it."
      ]
    },
    {
      "cell_type": "code",
      "metadata": {
        "id": "eQ1X1_Uyu8O_"
      },
      "source": [
        "predictwise.head()"
      ],
      "execution_count": null,
      "outputs": []
    },
    {
      "cell_type": "code",
      "metadata": {
        "jupyter": {
          "outputs_hidden": false
        },
        "id": "TcIQUQhgu8O_"
      },
      "source": [
        "model = simple_gallup_model(gallup_2012)\n",
        "model = model.join(predictwise[['Votes']])\n",
        "prediction = simulate_election(model, 10000)\n",
        "\n",
        "plot_simulation(prediction)"
      ],
      "execution_count": null,
      "outputs": []
    },
    {
      "cell_type": "markdown",
      "metadata": {
        "id": "DF-HQdk7u8O_"
      },
      "source": [
        "## PART 3:  Adding Polling Uncertainty to the Predictive Model\n",
        "\n",
        "The model above is brittle -- it includes no accounting for uncertainty, and thus makes predictions with 100% confidence. This is clearly wrong -- there are numerous sources of uncertainty in estimating election outcomes from a poll of affiliations. \n",
        "\n",
        "The most obvious source of error in the Gallup data is the finite sample size -- Gallup did not poll *everybody* in America, and thus the party affilitions are subject to sampling errors. How much uncertainty does this introduce?\n",
        "\n",
        "On their [webpage](http://www.gallup.com/poll/156437/heavily-democratic-states-concentrated-east.aspx#2) discussing these data, Gallup notes that the sampling error for the states is between 3 and 6%, with it being 3% for most states. (The calculation of the sampling error itself is an exercise in statistics. Its fun to think of how you could arrive at the sampling error if it was not given to you. One way to do it would be to assume this was a two-choice situation and use binomial sampling error for the non-unknown answers, and further model the error for those who answered 'Unknown'.)\n",
        "\n",
        "This is indeed done even in direct polls just before the election. There too you cant ask everyone and mustworry about sampling.\n",
        "\n",
        "### QUESTION 3:\n",
        "\n",
        "Use Gallup's estimate of 3% to build a Gallup model with some uncertainty. Assume that the `Dem_Adv` column represents the mean of a Gaussian, whose standard deviation is 3%. Build the model in the function `uncertain_gallup_model`. *Return a forecast where the probability of an Obama victory is given by the probability that a sample from the `Dem_Adv` Gaussian is positive.*\n",
        "\n",
        "**Hint**\n",
        "The probability that a sample from a Gaussian with mean $\\mu$ and standard deviation $\\sigma$ exceeds a threhold $z$ can be found using the the Cumulative Distribution Function of a Gaussian:\n",
        "\n",
        "$$\n",
        "CDF(z) = \\frac1{2}\\left(1 + {\\rm erf}\\left(\\frac{z - \\mu}{\\sqrt{2 \\sigma^2}}\\right)\\right) \n",
        "$$\n"
      ]
    },
    {
      "cell_type": "code",
      "metadata": {
        "jupyter": {
          "outputs_hidden": false
        },
        "id": "5amkH2uqu8PA"
      },
      "source": [
        "\"\"\"\n",
        "Function\n",
        "--------\n",
        "uncertain_gallup_model\n",
        "\n",
        "A forecast that predicts an Obama (Democratic) victory if the random variable drawn\n",
        "from a Gaussian with mean Dem_Adv and standard deviation 3% is >0\n",
        "\n",
        "Inputs\n",
        "------\n",
        "gallup : DataFrame\n",
        "    The Gallup dataframe above\n",
        "\n",
        "Returns\n",
        "-------\n",
        "model : DataFrame\n",
        "    A dataframe with the following column\n",
        "     * Obama: probability that the state votes for Obama.\n",
        "    model.index should be set to gallup.index (that is, it should be indexed by state name)\n",
        "\"\"\"\n",
        "# your code here\n"
      ],
      "execution_count": null,
      "outputs": []
    },
    {
      "cell_type": "code",
      "metadata": {
        "id": "daIp0Icwu8PA"
      },
      "source": [
        "model = uncertain_gallup_model(gallup_2012)\n",
        "model = model.join(predictwise[['Votes']])"
      ],
      "execution_count": null,
      "outputs": []
    },
    {
      "cell_type": "code",
      "metadata": {
        "id": "xrBkp1GFu8PB"
      },
      "source": [
        "prediction = simulate_election(model, 10000)\n",
        "plot_simulation(prediction)"
      ],
      "execution_count": null,
      "outputs": []
    }
  ]
}